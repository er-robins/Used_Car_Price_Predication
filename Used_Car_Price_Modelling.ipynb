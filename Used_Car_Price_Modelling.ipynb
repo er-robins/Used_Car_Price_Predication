{
 "cells": [
  {
   "cell_type": "markdown",
   "metadata": {},
   "source": [
    "# What drives the price of a car?\n",
    "\n",
    "![](images/kurt.jpeg)"
   ]
  },
  {
   "cell_type": "markdown",
   "metadata": {},
   "source": [
    "**OVERVIEW**\n",
    "\n",
    "In this application, you will explore a dataset from kaggle. The original dataset contained information on 3 million used cars. The provided dataset contains information on 426K cars to ensure speed of processing.  Your goal is to understand what factors make a car more or less expensive.  As a result of your analysis, you should provide clear recommendations to your client -- a used car dealership -- as to what consumers value in a used car."
   ]
  },
  {
   "cell_type": "markdown",
   "metadata": {},
   "source": [
    "### CRISP-DM Framework\n",
    "\n",
    "<center>\n",
    "    <img src = images/crisp.png width = 50%/>\n",
    "</center>\n",
    "\n",
    "\n",
    "To frame the task, throughout our practical applications we will refer back to a standard process in industry for data projects called CRISP-DM.  This process provides a framework for working through a data problem.  Your first step in this application will be to read through a brief overview of CRISP-DM [here](https://mo-pcco.s3.us-east-1.amazonaws.com/BH-PCMLAI/module_11/readings_starter.zip).  After reading the overview, answer the questions below."
   ]
  },
  {
   "cell_type": "markdown",
   "metadata": {},
   "source": [
    "### Business Understanding\n",
    "\n",
    "From a business perspective, we are tasked with identifying key drivers for used car prices.  In the CRISP-DM overview, we are asked to convert this business framing to a data problem definition.  Using a few sentences, reframe the task as a data task with the appropriate technical vocabulary. "
   ]
  },
  {
   "cell_type": "code",
   "execution_count": null,
   "metadata": {},
   "outputs": [],
   "source": []
  },
  {
   "cell_type": "code",
   "execution_count": null,
   "metadata": {},
   "outputs": [],
   "source": []
  },
  {
   "cell_type": "code",
   "execution_count": null,
   "metadata": {},
   "outputs": [],
   "source": []
  },
  {
   "cell_type": "code",
   "execution_count": null,
   "metadata": {},
   "outputs": [],
   "source": []
  },
  {
   "cell_type": "markdown",
   "metadata": {},
   "source": [
    "### Data Understanding\n",
    "\n",
    "After considering the business understanding, we want to get familiar with our data.  Write down some steps that you would take to get to know the dataset and identify any quality issues within.  Take time to get to know the dataset and explore what information it contains and how this could be used to inform your business understanding."
   ]
  },
  {
   "cell_type": "code",
   "execution_count": 661,
   "metadata": {},
   "outputs": [],
   "source": [
    "# Importing modules\n",
    "import pandas as pd\n",
    "import matplotlib.pyplot as plt\n",
    "import numpy as np\n",
    "import plotly.express  as px\n"
   ]
  },
  {
   "cell_type": "code",
   "execution_count": 662,
   "metadata": {},
   "outputs": [],
   "source": [
    "DEBUG=True"
   ]
  },
  {
   "cell_type": "code",
   "execution_count": 663,
   "metadata": {},
   "outputs": [],
   "source": [
    "df = pd.read_csv('data/vehicles.csv')\n",
    "#print(df['model'].unique())\n",
    "#print(df[df['manufacturer'].isnull()]['model'].unique())\n",
    "#print(df['size'].unique())"
   ]
  },
  {
   "cell_type": "code",
   "execution_count": 664,
   "metadata": {},
   "outputs": [
    {
     "name": "stdout",
     "output_type": "stream",
     "text": [
      "<class 'pandas.core.frame.DataFrame'>\n",
      "RangeIndex: 426880 entries, 0 to 426879\n",
      "Data columns (total 18 columns):\n",
      " #   Column        Non-Null Count   Dtype  \n",
      "---  ------        --------------   -----  \n",
      " 0   id            426880 non-null  int64  \n",
      " 1   region        426880 non-null  object \n",
      " 2   price         426880 non-null  int64  \n",
      " 3   year          425675 non-null  float64\n",
      " 4   manufacturer  409234 non-null  object \n",
      " 5   model         421603 non-null  object \n",
      " 6   condition     252776 non-null  object \n",
      " 7   cylinders     249202 non-null  object \n",
      " 8   fuel          423867 non-null  object \n",
      " 9   odometer      422480 non-null  float64\n",
      " 10  title_status  418638 non-null  object \n",
      " 11  transmission  424324 non-null  object \n",
      " 12  VIN           265838 non-null  object \n",
      " 13  drive         296313 non-null  object \n",
      " 14  size          120519 non-null  object \n",
      " 15  type          334022 non-null  object \n",
      " 16  paint_color   296677 non-null  object \n",
      " 17  state         426880 non-null  object \n",
      "dtypes: float64(2), int64(2), object(14)\n",
      "memory usage: 58.6+ MB\n"
     ]
    }
   ],
   "source": [
    "df.info()"
   ]
  },
  {
   "cell_type": "code",
   "execution_count": 665,
   "metadata": {},
   "outputs": [
    {
     "data": {
      "text/plain": [
       "(426880, 18)"
      ]
     },
     "execution_count": 665,
     "metadata": {},
     "output_type": "execute_result"
    }
   ],
   "source": [
    "df.shape"
   ]
  },
  {
   "cell_type": "code",
   "execution_count": 666,
   "metadata": {},
   "outputs": [
    {
     "data": {
      "text/html": [
       "<div>\n",
       "<style scoped>\n",
       "    .dataframe tbody tr th:only-of-type {\n",
       "        vertical-align: middle;\n",
       "    }\n",
       "\n",
       "    .dataframe tbody tr th {\n",
       "        vertical-align: top;\n",
       "    }\n",
       "\n",
       "    .dataframe thead th {\n",
       "        text-align: right;\n",
       "    }\n",
       "</style>\n",
       "<table border=\"1\" class=\"dataframe\">\n",
       "  <thead>\n",
       "    <tr style=\"text-align: right;\">\n",
       "      <th></th>\n",
       "      <th>id</th>\n",
       "      <th>region</th>\n",
       "      <th>price</th>\n",
       "      <th>year</th>\n",
       "      <th>manufacturer</th>\n",
       "      <th>model</th>\n",
       "      <th>condition</th>\n",
       "      <th>cylinders</th>\n",
       "      <th>fuel</th>\n",
       "      <th>odometer</th>\n",
       "      <th>title_status</th>\n",
       "      <th>transmission</th>\n",
       "      <th>VIN</th>\n",
       "      <th>drive</th>\n",
       "      <th>size</th>\n",
       "      <th>type</th>\n",
       "      <th>paint_color</th>\n",
       "      <th>state</th>\n",
       "    </tr>\n",
       "  </thead>\n",
       "  <tbody>\n",
       "    <tr>\n",
       "      <th>426875</th>\n",
       "      <td>7301591192</td>\n",
       "      <td>wyoming</td>\n",
       "      <td>23590</td>\n",
       "      <td>2019.0</td>\n",
       "      <td>nissan</td>\n",
       "      <td>maxima s sedan 4d</td>\n",
       "      <td>good</td>\n",
       "      <td>6 cylinders</td>\n",
       "      <td>gas</td>\n",
       "      <td>32226.0</td>\n",
       "      <td>clean</td>\n",
       "      <td>other</td>\n",
       "      <td>1N4AA6AV6KC367801</td>\n",
       "      <td>fwd</td>\n",
       "      <td>NaN</td>\n",
       "      <td>sedan</td>\n",
       "      <td>NaN</td>\n",
       "      <td>wy</td>\n",
       "    </tr>\n",
       "    <tr>\n",
       "      <th>426876</th>\n",
       "      <td>7301591187</td>\n",
       "      <td>wyoming</td>\n",
       "      <td>30590</td>\n",
       "      <td>2020.0</td>\n",
       "      <td>volvo</td>\n",
       "      <td>s60 t5 momentum sedan 4d</td>\n",
       "      <td>good</td>\n",
       "      <td>NaN</td>\n",
       "      <td>gas</td>\n",
       "      <td>12029.0</td>\n",
       "      <td>clean</td>\n",
       "      <td>other</td>\n",
       "      <td>7JR102FKXLG042696</td>\n",
       "      <td>fwd</td>\n",
       "      <td>NaN</td>\n",
       "      <td>sedan</td>\n",
       "      <td>red</td>\n",
       "      <td>wy</td>\n",
       "    </tr>\n",
       "    <tr>\n",
       "      <th>426877</th>\n",
       "      <td>7301591147</td>\n",
       "      <td>wyoming</td>\n",
       "      <td>34990</td>\n",
       "      <td>2020.0</td>\n",
       "      <td>cadillac</td>\n",
       "      <td>xt4 sport suv 4d</td>\n",
       "      <td>good</td>\n",
       "      <td>NaN</td>\n",
       "      <td>diesel</td>\n",
       "      <td>4174.0</td>\n",
       "      <td>clean</td>\n",
       "      <td>other</td>\n",
       "      <td>1GYFZFR46LF088296</td>\n",
       "      <td>NaN</td>\n",
       "      <td>NaN</td>\n",
       "      <td>hatchback</td>\n",
       "      <td>white</td>\n",
       "      <td>wy</td>\n",
       "    </tr>\n",
       "    <tr>\n",
       "      <th>426878</th>\n",
       "      <td>7301591140</td>\n",
       "      <td>wyoming</td>\n",
       "      <td>28990</td>\n",
       "      <td>2018.0</td>\n",
       "      <td>lexus</td>\n",
       "      <td>es 350 sedan 4d</td>\n",
       "      <td>good</td>\n",
       "      <td>6 cylinders</td>\n",
       "      <td>gas</td>\n",
       "      <td>30112.0</td>\n",
       "      <td>clean</td>\n",
       "      <td>other</td>\n",
       "      <td>58ABK1GG4JU103853</td>\n",
       "      <td>fwd</td>\n",
       "      <td>NaN</td>\n",
       "      <td>sedan</td>\n",
       "      <td>silver</td>\n",
       "      <td>wy</td>\n",
       "    </tr>\n",
       "    <tr>\n",
       "      <th>426879</th>\n",
       "      <td>7301591129</td>\n",
       "      <td>wyoming</td>\n",
       "      <td>30590</td>\n",
       "      <td>2019.0</td>\n",
       "      <td>bmw</td>\n",
       "      <td>4 series 430i gran coupe</td>\n",
       "      <td>good</td>\n",
       "      <td>NaN</td>\n",
       "      <td>gas</td>\n",
       "      <td>22716.0</td>\n",
       "      <td>clean</td>\n",
       "      <td>other</td>\n",
       "      <td>WBA4J1C58KBM14708</td>\n",
       "      <td>rwd</td>\n",
       "      <td>NaN</td>\n",
       "      <td>coupe</td>\n",
       "      <td>NaN</td>\n",
       "      <td>wy</td>\n",
       "    </tr>\n",
       "  </tbody>\n",
       "</table>\n",
       "</div>"
      ],
      "text/plain": [
       "                id   region  price    year manufacturer  \\\n",
       "426875  7301591192  wyoming  23590  2019.0       nissan   \n",
       "426876  7301591187  wyoming  30590  2020.0        volvo   \n",
       "426877  7301591147  wyoming  34990  2020.0     cadillac   \n",
       "426878  7301591140  wyoming  28990  2018.0        lexus   \n",
       "426879  7301591129  wyoming  30590  2019.0          bmw   \n",
       "\n",
       "                           model condition    cylinders    fuel  odometer  \\\n",
       "426875         maxima s sedan 4d      good  6 cylinders     gas   32226.0   \n",
       "426876  s60 t5 momentum sedan 4d      good          NaN     gas   12029.0   \n",
       "426877          xt4 sport suv 4d      good          NaN  diesel    4174.0   \n",
       "426878           es 350 sedan 4d      good  6 cylinders     gas   30112.0   \n",
       "426879  4 series 430i gran coupe      good          NaN     gas   22716.0   \n",
       "\n",
       "       title_status transmission                VIN drive size       type  \\\n",
       "426875        clean        other  1N4AA6AV6KC367801   fwd  NaN      sedan   \n",
       "426876        clean        other  7JR102FKXLG042696   fwd  NaN      sedan   \n",
       "426877        clean        other  1GYFZFR46LF088296   NaN  NaN  hatchback   \n",
       "426878        clean        other  58ABK1GG4JU103853   fwd  NaN      sedan   \n",
       "426879        clean        other  WBA4J1C58KBM14708   rwd  NaN      coupe   \n",
       "\n",
       "       paint_color state  \n",
       "426875         NaN    wy  \n",
       "426876         red    wy  \n",
       "426877       white    wy  \n",
       "426878      silver    wy  \n",
       "426879         NaN    wy  "
      ]
     },
     "execution_count": 666,
     "metadata": {},
     "output_type": "execute_result"
    }
   ],
   "source": [
    "df.tail()"
   ]
  },
  {
   "cell_type": "code",
   "execution_count": null,
   "metadata": {},
   "outputs": [],
   "source": []
  },
  {
   "cell_type": "code",
   "execution_count": 667,
   "metadata": {},
   "outputs": [
    {
     "data": {
      "text/plain": [
       "id                   0\n",
       "region               0\n",
       "price                0\n",
       "year              1205\n",
       "manufacturer     17646\n",
       "model             5277\n",
       "condition       174104\n",
       "cylinders       177678\n",
       "fuel              3013\n",
       "odometer          4400\n",
       "title_status      8242\n",
       "transmission      2556\n",
       "VIN             161042\n",
       "drive           130567\n",
       "size            306361\n",
       "type             92858\n",
       "paint_color     130203\n",
       "state                0\n",
       "dtype: int64"
      ]
     },
     "execution_count": 667,
     "metadata": {},
     "output_type": "execute_result"
    }
   ],
   "source": [
    "df.isnull().sum()"
   ]
  },
  {
   "cell_type": "code",
   "execution_count": null,
   "metadata": {},
   "outputs": [],
   "source": []
  },
  {
   "cell_type": "code",
   "execution_count": 668,
   "metadata": {},
   "outputs": [
    {
     "data": {
      "text/plain": [
       "(426880, 16)"
      ]
     },
     "execution_count": 668,
     "metadata": {},
     "output_type": "execute_result"
    }
   ],
   "source": [
    "#dropping columns 'VIN' and 'size', those features are not important to predict price, Size should be covered by model, also both have significant number of missing data\n",
    "df = df.drop(columns=['VIN','size'])\n",
    "df.shape"
   ]
  },
  {
   "cell_type": "code",
   "execution_count": null,
   "metadata": {},
   "outputs": [],
   "source": []
  },
  {
   "cell_type": "code",
   "execution_count": 669,
   "metadata": {},
   "outputs": [
    {
     "name": "stdout",
     "output_type": "stream",
     "text": [
      "id                   0\n",
      "region               0\n",
      "price                0\n",
      "year              1205\n",
      "manufacturer     16778\n",
      "model             5277\n",
      "condition       174104\n",
      "cylinders       177678\n",
      "fuel              3013\n",
      "odometer          4400\n",
      "title_status      8242\n",
      "transmission      2556\n",
      "drive           130567\n",
      "type             92858\n",
      "paint_color     130203\n",
      "state                0\n",
      "dtype: int64\n"
     ]
    }
   ],
   "source": [
    "# Create a Series that maps models to manufacturers (where manufacturer is not null)\n",
    "\n",
    "model_to_manufacturer = df[df.manufacturer.notnull()].drop_duplicates(subset='model').set_index('model')['manufacturer']\n",
    "#print(model_to_manufacturer)\n",
    "\n",
    "# Fill missing manufacturers based on the model_to_manufacturer mapping\n",
    "df.loc[df.manufacturer.isnull(), 'manufacturer'] = df['model'].map(model_to_manufacturer)\n",
    "if DEBUG:\n",
    "    print(df.isnull().sum())\n"
   ]
  },
  {
   "cell_type": "code",
   "execution_count": 670,
   "metadata": {},
   "outputs": [
    {
     "name": "stdout",
     "output_type": "stream",
     "text": [
      "id                   0\n",
      "region               0\n",
      "price                0\n",
      "year                 0\n",
      "manufacturer         0\n",
      "model                0\n",
      "condition       164577\n",
      "cylinders       167254\n",
      "fuel              2553\n",
      "odometer          4138\n",
      "title_status      7718\n",
      "transmission      2271\n",
      "drive           121267\n",
      "type             84438\n",
      "paint_color     121534\n",
      "state                0\n",
      "dtype: int64\n"
     ]
    }
   ],
   "source": [
    "#dropping null rows for 'year', 'model' and 'manufacturer' as null rows are comparatively low\n",
    "df = df.dropna(subset=['year', 'manufacturer', 'model'])\n",
    "if DEBUG:\n",
    "    print(df.isnull().sum())"
   ]
  },
  {
   "cell_type": "code",
   "execution_count": 671,
   "metadata": {},
   "outputs": [
    {
     "name": "stdout",
     "output_type": "stream",
     "text": [
      "6.0\n",
      "[ 8.   6.   4.   5.   4.5  9.  10.   3.   7.  12.   5.5  6.5]\n",
      "id                   0\n",
      "region               0\n",
      "price                0\n",
      "year                 0\n",
      "manufacturer         0\n",
      "model                0\n",
      "condition       164577\n",
      "cylinders            0\n",
      "fuel              2553\n",
      "odometer          4138\n",
      "title_status      7718\n",
      "transmission      2271\n",
      "drive           121267\n",
      "type             84438\n",
      "paint_color     121534\n",
      "state                0\n",
      "dtype: int64\n"
     ]
    }
   ],
   "source": [
    "# Extract numeric part from the 'cylinders' column\n",
    "df['cylinders'] = df['cylinders'].str.extract('(\\d+)').astype(float)\n",
    "\n",
    "median_cylinders =  df.groupby('model')['cylinders'].median()\n",
    "overall_median = df['cylinders'].median()  # Calculate overall median for any missing model medians\n",
    "print(overall_median)\n",
    "\n",
    "df['cylinders'] = df.apply(\n",
    "    lambda row: median_cylinders[row['model']] if pd.isnull(row['cylinders']) else row['cylinders'],\n",
    "    axis=1\n",
    ")\n",
    "df['cylinders'] = df.apply(\n",
    "   lambda row: overall_median if pd.isnull(row['cylinders']) else row['cylinders'],\n",
    "    axis=1\n",
    ")\n",
    "print(df.cylinders.unique())\n",
    "if DEBUG:\n",
    "    print(df.isnull().sum())\n"
   ]
  },
  {
   "cell_type": "code",
   "execution_count": 672,
   "metadata": {},
   "outputs": [],
   "source": [
    "def fill_odometer(row):\n",
    "    if pd.isnull(row['odometer']):\n",
    "     # Get the odometer value for the year of the current row\n",
    "\n",
    "        year_odometer = yearly_odometer.get(row['year'])\n",
    "\n",
    "        if pd.isnull(year_odometer):\n",
    "            # Find the closest year with available data\n",
    "\n",
    "            closet_year = yearly_odometer.dropna().sub(row['year']).abs().idxmin()\n",
    "            return yearly_odometer[closet_year]\n",
    "        else:\n",
    "            return year_odometer\n",
    "    else:\n",
    "        return row['odometer']\n"
   ]
  },
  {
   "cell_type": "code",
   "execution_count": 673,
   "metadata": {},
   "outputs": [
    {
     "name": "stdout",
     "output_type": "stream",
     "text": [
      "id                   0\n",
      "region               0\n",
      "price                0\n",
      "year                 0\n",
      "manufacturer         0\n",
      "model                0\n",
      "condition       164577\n",
      "cylinders            0\n",
      "fuel              2553\n",
      "odometer             0\n",
      "title_status      7718\n",
      "transmission      2271\n",
      "drive           121267\n",
      "type             84438\n",
      "paint_color     121534\n",
      "state                0\n",
      "dtype: int64\n"
     ]
    }
   ],
   "source": [
    "# for odometer assumption, use median value by year and use that to estimate missing values.\n",
    "yearly_odometer = df.groupby(['year'])['odometer'].median()\n",
    "\n",
    "df['odometer'] = df.apply(fill_odometer, axis=1)\n",
    "#plt.plot(df['year'], df['odometer'])\n",
    "if DEBUG:\n",
    "    print(df.isnull().sum())"
   ]
  },
  {
   "cell_type": "code",
   "execution_count": 674,
   "metadata": {},
   "outputs": [
    {
     "name": "stdout",
     "output_type": "stream",
     "text": [
      "id                   0\n",
      "region               0\n",
      "price                0\n",
      "year                 0\n",
      "manufacturer         0\n",
      "model                0\n",
      "condition            0\n",
      "cylinders            0\n",
      "fuel              2553\n",
      "odometer             0\n",
      "title_status      7718\n",
      "transmission      2271\n",
      "drive           121267\n",
      "type             84438\n",
      "paint_color     121534\n",
      "state                0\n",
      "dtype: int64\n"
     ]
    }
   ],
   "source": [
    "#print(df.condition.value_counts(dropna=False, ascending=False, normalize=True))\n",
    "#as 28% of the rows are in 'good' condition, 2nd highest after NAN, and very very few in fair, new and salvage, it would be fair to assume that NAN will be good. \n",
    "\n",
    "df['condition'] = df['condition'].fillna('Not Specified')\n",
    "if DEBUG:\n",
    "    #print(df.condition.value_counts(dropna=False, ascending=False, normalize=True))\n",
    "    print(df.isnull().sum())\n",
    "\n",
    "\n"
   ]
  },
  {
   "cell_type": "code",
   "execution_count": 675,
   "metadata": {},
   "outputs": [
    {
     "name": "stdout",
     "output_type": "stream",
     "text": [
      "id              0\n",
      "region          0\n",
      "price           0\n",
      "year            0\n",
      "manufacturer    0\n",
      "model           0\n",
      "condition       0\n",
      "cylinders       0\n",
      "fuel            0\n",
      "odometer        0\n",
      "title_status    0\n",
      "transmission    0\n",
      "drive           0\n",
      "type            0\n",
      "paint_color     0\n",
      "state           0\n",
      "dtype: int64\n"
     ]
    }
   ],
   "source": [
    "#filling all other Null as \"Not Specified\"\n",
    "\n",
    "df = df.fillna('Not Specified')\n",
    "if DEBUG:\n",
    "    #print(df.condition.value_counts(dropna=False, ascending=False, normalize=True))\n",
    "    print(df.isnull().sum())"
   ]
  },
  {
   "cell_type": "code",
   "execution_count": 676,
   "metadata": {},
   "outputs": [
    {
     "name": "stdout",
     "output_type": "stream",
     "text": [
      "fuel\n",
      "gas              0.842961\n",
      "other            0.070949\n",
      "diesel           0.063201\n",
      "hybrid           0.012596\n",
      "Not Specified    0.006308\n",
      "electric         0.003985\n",
      "Name: proportion, dtype: float64\n"
     ]
    }
   ],
   "source": [
    "print(df.fuel.value_counts(dropna=False, ascending=False, normalize=True))\n"
   ]
  },
  {
   "cell_type": "markdown",
   "metadata": {},
   "source": [
    "### Data Preparation\n",
    "\n",
    "After our initial exploration and fine tuning of the business understanding, it is time to construct our final dataset prior to modeling.  Here, we want to make sure to handle any integrity issues and cleaning, the engineering of new features, any transformations that we believe should happen (scaling, logarithms, normalization, etc.), and general preparation for modeling with `sklearn`. "
   ]
  },
  {
   "cell_type": "code",
   "execution_count": null,
   "metadata": {},
   "outputs": [],
   "source": []
  },
  {
   "cell_type": "code",
   "execution_count": null,
   "metadata": {},
   "outputs": [],
   "source": []
  },
  {
   "cell_type": "code",
   "execution_count": null,
   "metadata": {},
   "outputs": [],
   "source": []
  },
  {
   "cell_type": "code",
   "execution_count": null,
   "metadata": {},
   "outputs": [],
   "source": []
  },
  {
   "cell_type": "code",
   "execution_count": null,
   "metadata": {},
   "outputs": [],
   "source": []
  },
  {
   "cell_type": "markdown",
   "metadata": {},
   "source": [
    "### Modeling\n",
    "\n",
    "With your (almost?) final dataset in hand, it is now time to build some models.  Here, you should build a number of different regression models with the price as the target.  In building your models, you should explore different parameters and be sure to cross-validate your findings."
   ]
  },
  {
   "cell_type": "code",
   "execution_count": null,
   "metadata": {},
   "outputs": [],
   "source": []
  },
  {
   "cell_type": "code",
   "execution_count": null,
   "metadata": {},
   "outputs": [],
   "source": []
  },
  {
   "cell_type": "code",
   "execution_count": null,
   "metadata": {},
   "outputs": [],
   "source": []
  },
  {
   "cell_type": "code",
   "execution_count": null,
   "metadata": {},
   "outputs": [],
   "source": []
  },
  {
   "cell_type": "markdown",
   "metadata": {},
   "source": [
    "### Evaluation\n",
    "\n",
    "With some modeling accomplished, we aim to reflect on what we identify as a high quality model and what we are able to learn from this.  We should review our business objective and explore how well we can provide meaningful insight on drivers of used car prices.  Your goal now is to distill your findings and determine whether the earlier phases need revisitation and adjustment or if you have information of value to bring back to your client."
   ]
  },
  {
   "cell_type": "code",
   "execution_count": null,
   "metadata": {},
   "outputs": [],
   "source": []
  },
  {
   "cell_type": "code",
   "execution_count": null,
   "metadata": {},
   "outputs": [],
   "source": []
  },
  {
   "cell_type": "code",
   "execution_count": null,
   "metadata": {},
   "outputs": [],
   "source": []
  },
  {
   "cell_type": "code",
   "execution_count": null,
   "metadata": {},
   "outputs": [],
   "source": []
  },
  {
   "cell_type": "code",
   "execution_count": null,
   "metadata": {},
   "outputs": [],
   "source": []
  },
  {
   "cell_type": "code",
   "execution_count": null,
   "metadata": {},
   "outputs": [],
   "source": []
  },
  {
   "cell_type": "markdown",
   "metadata": {},
   "source": [
    "### Deployment\n",
    "\n",
    "Now that we've settled on our models and findings, it is time to deliver the information to the client.  You should organize your work as a basic report that details your primary findings.  Keep in mind that your audience is a group of used car dealers interested in fine tuning their inventory."
   ]
  },
  {
   "cell_type": "code",
   "execution_count": null,
   "metadata": {},
   "outputs": [],
   "source": []
  },
  {
   "cell_type": "code",
   "execution_count": null,
   "metadata": {},
   "outputs": [],
   "source": []
  },
  {
   "cell_type": "code",
   "execution_count": null,
   "metadata": {},
   "outputs": [],
   "source": []
  },
  {
   "cell_type": "code",
   "execution_count": null,
   "metadata": {},
   "outputs": [],
   "source": []
  },
  {
   "cell_type": "code",
   "execution_count": null,
   "metadata": {},
   "outputs": [],
   "source": []
  },
  {
   "cell_type": "code",
   "execution_count": null,
   "metadata": {},
   "outputs": [],
   "source": []
  },
  {
   "cell_type": "code",
   "execution_count": null,
   "metadata": {},
   "outputs": [],
   "source": []
  }
 ],
 "metadata": {
  "kernelspec": {
   "display_name": "Python 3",
   "language": "python",
   "name": "python3"
  },
  "language_info": {
   "codemirror_mode": {
    "name": "ipython",
    "version": 3
   },
   "file_extension": ".py",
   "mimetype": "text/x-python",
   "name": "python",
   "nbconvert_exporter": "python",
   "pygments_lexer": "ipython3",
   "version": "3.9.19"
  },
  "widgets": {
   "application/vnd.jupyter.widget-state+json": {
    "state": {},
    "version_major": 2,
    "version_minor": 0
   }
  }
 },
 "nbformat": 4,
 "nbformat_minor": 4
}
