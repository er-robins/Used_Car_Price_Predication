{
 "cells": [
  {
   "cell_type": "code",
   "execution_count": 6,
   "metadata": {},
   "outputs": [
    {
     "data": {
      "text/html": [
       "<div>\n",
       "<style scoped>\n",
       "    .dataframe tbody tr th:only-of-type {\n",
       "        vertical-align: middle;\n",
       "    }\n",
       "\n",
       "    .dataframe tbody tr th {\n",
       "        vertical-align: top;\n",
       "    }\n",
       "\n",
       "    .dataframe thead th {\n",
       "        text-align: right;\n",
       "    }\n",
       "</style>\n",
       "<table border=\"1\" class=\"dataframe\">\n",
       "  <thead>\n",
       "    <tr style=\"text-align: right;\">\n",
       "      <th></th>\n",
       "      <th>Feature</th>\n",
       "      <th>Coefficient</th>\n",
       "    </tr>\n",
       "  </thead>\n",
       "  <tbody>\n",
       "    <tr>\n",
       "      <th>0</th>\n",
       "      <td>simplified_model_5500</td>\n",
       "      <td>23919.125782</td>\n",
       "    </tr>\n",
       "    <tr>\n",
       "      <th>1</th>\n",
       "      <td>simplified_model_911</td>\n",
       "      <td>20751.827323</td>\n",
       "    </tr>\n",
       "    <tr>\n",
       "      <th>2</th>\n",
       "      <td>simplified_model_f650</td>\n",
       "      <td>19023.909873</td>\n",
       "    </tr>\n",
       "    <tr>\n",
       "      <th>3</th>\n",
       "      <td>simplified_model_f750</td>\n",
       "      <td>18326.129578</td>\n",
       "    </tr>\n",
       "    <tr>\n",
       "      <th>4</th>\n",
       "      <td>simplified_model_4500</td>\n",
       "      <td>17358.258727</td>\n",
       "    </tr>\n",
       "  </tbody>\n",
       "</table>\n",
       "</div>"
      ],
      "text/plain": [
       "                 Feature   Coefficient\n",
       "0  simplified_model_5500  23919.125782\n",
       "1   simplified_model_911  20751.827323\n",
       "2  simplified_model_f650  19023.909873\n",
       "3  simplified_model_f750  18326.129578\n",
       "4  simplified_model_4500  17358.258727"
      ]
     },
     "execution_count": 6,
     "metadata": {},
     "output_type": "execute_result"
    }
   ],
   "source": [
    "import pandas as pd\n",
    "\n",
    "# Load the CSV file\n",
    "coefficients_df = pd.read_csv('data/ridge_coefficients.csv')\n",
    "coefficients_df.rename(columns={'Unnamed: 0' : 'Feature', '0' : 'Coefficient'}, inplace=True)\n",
    "#df.rename(columns={'Feature': 'New Feature Name', 'Coefficient': 'New Coefficient Name'}, inplace=True)\n",
    "\n",
    "coefficients_df.head()"
   ]
  },
  {
   "cell_type": "code",
   "execution_count": 8,
   "metadata": {},
   "outputs": [
    {
     "name": "stdout",
     "output_type": "stream",
     "text": [
      "| Feature            | Coefficient Value | Absolute Coefficient | Summary                         |\n",
      "|--------------------|-------------------|----------------------|---------------------------------|\n",
      "| simplified_model_5500 | 23919.125781581064 | 23919.125781581064 | No summary available |\n",
      "| simplified_model_911 | 20751.827322880476 | 20751.827322880476 | No summary available |\n",
      "| simplified_model_f650 | 19023.90987283457 | 19023.90987283457 | No summary available |\n",
      "| simplified_model_f750 | 18326.12957794028 | 18326.12957794028 | No summary available |\n",
      "| simplified_model_4500 | 17358.258726541135 | 17358.258726541135 | No summary available |\n",
      "| car_age | -17180.712128918083 | 17180.712128918083 | No summary available |\n",
      "| simplified_model_tesla | 16889.82587672128 | 16889.82587672128 | No summary available |\n",
      "| simplified_model_alfa-romeo | 16853.744497285887 | 16853.744497285887 | No summary available |\n",
      "| simplified_model_3500 | 16704.175687535197 | 16704.175687535197 | No summary available |\n",
      "| simplified_model_lx | 16247.090967106702 | 16247.090967106702 | No summary available |\n",
      "| simplified_model_f250sd | 16018.648946059304 | 16018.648946059304 | No summary available |\n",
      "| simplified_model_mirage | -15770.940411295687 | 15770.940411295687 | No summary available |\n",
      "| simplified_model_gls | 15621.45026295052 | 15621.45026295052 | No summary available |\n",
      "| simplified_model_panamera | 15381.227913060871 | 15381.227913060871 | No summary available |\n",
      "| simplified_model_model | 15075.496304272663 | 15075.496304272663 | No summary available |\n",
      "\n"
     ]
    }
   ],
   "source": [
    "\n",
    "# Calculate the absolute value of the coefficients\n",
    "coefficients_df['Absolute Coefficient'] = coefficients_df['Coefficient'].abs()\n",
    "\n",
    "# Get the top 10 features by absolute magnitude of the coefficient\n",
    "top_10_features = coefficients_df.nlargest(15, 'Absolute Coefficient')\n",
    "\n",
    "# Define the summary for each feature\n",
    "summaries = {\n",
    "    'Feature1': 'Summary for Feature1',\n",
    "    'Feature2': 'Summary for Feature2',\n",
    "    'Feature3': 'Summary for Feature3',\n",
    "    'Feature4': 'Summary for Feature4',\n",
    "    'Feature5': 'Summary for Feature5',\n",
    "    'Feature6': 'Summary for Feature6',\n",
    "    'Feature7': 'Summary for Feature7',\n",
    "    'Feature8': 'Summary for Feature8',\n",
    "    'Feature9': 'Summary for Feature9',\n",
    "    'Feature10': 'Summary for Feature10',\n",
    "}\n",
    "\n",
    "# Create the Markdown table\n",
    "markdown_table = \"| Feature            | Coefficient Value | Absolute Coefficient | Summary                         |\\n\"\n",
    "markdown_table += \"|--------------------|-------------------|----------------------|---------------------------------|\\n\"\n",
    "for _, row in top_10_features.iterrows():\n",
    "    feature = row['Feature']\n",
    "    coefficient = row['Coefficient']\n",
    "    absolute_coefficient = row['Absolute Coefficient']\n",
    "    summary = summaries.get(feature, 'No summary available')\n",
    "    markdown_table += f\"| {feature} | {coefficient} | {absolute_coefficient} | {summary} |\\n\"\n",
    "\n",
    "print(markdown_table)"
   ]
  }
 ],
 "metadata": {
  "kernelspec": {
   "display_name": "base",
   "language": "python",
   "name": "python3"
  },
  "language_info": {
   "codemirror_mode": {
    "name": "ipython",
    "version": 3
   },
   "file_extension": ".py",
   "mimetype": "text/x-python",
   "name": "python",
   "nbconvert_exporter": "python",
   "pygments_lexer": "ipython3",
   "version": "3.9.19"
  }
 },
 "nbformat": 4,
 "nbformat_minor": 2
}
